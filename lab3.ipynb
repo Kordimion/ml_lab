{
 "cells": [
  {
   "cell_type": "code",
   "execution_count": 11,
   "id": "ae0ddbcb-da01-494b-9b80-074c8db090c4",
   "metadata": {
    "tags": []
   },
   "outputs": [
    {
     "name": "stdout",
     "output_type": "stream",
     "text": [
      "KNN Метрики:\n",
      "Accuracy: 0.497893850042123\n",
      "Precision: 0.48929555554080806\n",
      "Recall: 0.497893850042123\n",
      "F1-мера: 0.4889240863015983\n",
      "\n",
      "Дерево решений Метрики:\n",
      "Accuracy: 0.5939342881213142\n",
      "Precision: 0.5944038605544898\n",
      "Recall: 0.5939342881213142\n",
      "F1-мера: 0.5937164628875736\n"
     ]
    },
    {
     "name": "stderr",
     "output_type": "stream",
     "text": [
      "C:\\Users\\kordy\\anaconda3\\Lib\\site-packages\\sklearn\\metrics\\_classification.py:1469: UndefinedMetricWarning: Precision is ill-defined and being set to 0.0 in labels with no predicted samples. Use `zero_division` parameter to control this behavior.\n",
      "  _warn_prf(average, modifier, msg_start, len(result))\n",
      "C:\\Users\\kordy\\anaconda3\\Lib\\site-packages\\sklearn\\metrics\\_classification.py:1469: UndefinedMetricWarning: Precision is ill-defined and being set to 0.0 in labels with no predicted samples. Use `zero_division` parameter to control this behavior.\n",
      "  _warn_prf(average, modifier, msg_start, len(result))\n",
      "C:\\Users\\kordy\\anaconda3\\Lib\\site-packages\\sklearn\\metrics\\_classification.py:1469: UndefinedMetricWarning: Recall is ill-defined and being set to 0.0 in labels with no true samples. Use `zero_division` parameter to control this behavior.\n",
      "  _warn_prf(average, modifier, msg_start, len(result))\n"
     ]
    }
   ],
   "source": [
    "import pandas as pd\n",
    "from sklearn.model_selection import train_test_split\n",
    "from sklearn.neighbors import KNeighborsClassifier\n",
    "from sklearn.tree import DecisionTreeClassifier\n",
    "from sklearn import metrics\n",
    "\n",
    "# Загрузка данных\n",
    "df = pd.read_csv('cleaned_wine_quality_dataset.csv')\n",
    "\n",
    "# Определение признаков и целевой переменной\n",
    "X = df.drop('quality', axis=1)\n",
    "y = df['quality']\n",
    "\n",
    "# Разделение данных на обучающий и тестовый наборы\n",
    "X_train, X_test, y_train, y_test = train_test_split(X, y, test_size=0.3, random_state=42)\n",
    "\n",
    "# Инициализация и обучение моделей\n",
    "knn_model = KNeighborsClassifier(n_neighbors=5)\n",
    "knn_model.fit(X_train, y_train)\n",
    "\n",
    "dt_model = DecisionTreeClassifier(random_state=42)\n",
    "dt_model.fit(X_train, y_train)\n",
    "\n",
    "# Предсказание на тестовом наборе\n",
    "knn_pred = knn_model.predict(X_test)\n",
    "dt_pred = dt_model.predict(X_test)\n",
    "\n",
    "# Оценка моделей\n",
    "knn_accuracy = metrics.accuracy_score(y_test, knn_pred)\n",
    "dt_accuracy = metrics.accuracy_score(y_test, dt_pred)\n",
    "\n",
    "knn_precision = metrics.precision_score(y_test, knn_pred, average='weighted')\n",
    "dt_precision = metrics.precision_score(y_test, dt_pred, average='weighted')\n",
    "\n",
    "knn_recall = metrics.recall_score(y_test, knn_pred, average='weighted')\n",
    "dt_recall = metrics.recall_score(y_test, dt_pred, average='weighted')\n",
    "\n",
    "knn_f1 = metrics.f1_score(y_test, knn_pred, average='weighted')\n",
    "dt_f1 = metrics.f1_score(y_test, dt_pred, average='weighted')\n",
    "\n",
    "# ROC AUC не применим к мультиклассовой классификации\n",
    "# roc_auc_knn = metrics.roc_auc_score(y_test, knn_pred)\n",
    "# roc_auc_dt = metrics.roc_auc_score(y_test, dt_pred)\n",
    "\n",
    "print('KNN Метрики:')\n",
    "print('Accuracy:', knn_accuracy)\n",
    "print('Precision:', knn_precision)\n",
    "print('Recall:', knn_recall)\n",
    "print('F1-мера:', knn_f1)\n",
    "\n",
    "print('\\nДерево решений Метрики:')\n",
    "print('Accuracy:', dt_accuracy)\n",
    "print('Precision:', dt_precision)\n",
    "print('Recall:', dt_recall)\n",
    "print('F1-мера:', dt_f1)"
   ]
  },
  {
   "cell_type": "code",
   "execution_count": 12,
   "id": "88703bf1-80d1-48fa-88ff-f61fd9a14540",
   "metadata": {
    "tags": []
   },
   "outputs": [
    {
     "name": "stderr",
     "output_type": "stream",
     "text": [
      "C:\\Users\\kordy\\anaconda3\\Lib\\site-packages\\sklearn\\cluster\\_kmeans.py:1412: FutureWarning: The default value of `n_init` will change from 10 to 'auto' in 1.4. Set the value of `n_init` explicitly to suppress the warning\n",
      "  super()._check_params_vs_input(X, default_n_init=10)\n"
     ]
    }
   ],
   "source": [
    "import pandas as pd\n",
    "from sklearn.cluster import KMeans\n",
    "import matplotlib.pyplot as plt\n",
    "\n",
    "# попробуем применить k-means для всего датасета, и посмотрим, увеличится ли точность наших алгоритмов классификации\n",
    "\n",
    "# Select the features for clustering\n",
    "X = df.loc[:, df.columns != 'quality']\n",
    "\n",
    "# Initialize the KMeans model\n",
    "kmeans = KMeans(n_clusters=150, random_state=0)\n",
    "\n",
    "# Fit the model to the data\n",
    "kmeans.fit(X)\n",
    "\n",
    "# Add the predicted clusters to the dataframe\n",
    "df['cluster'] = kmeans.labels_\n",
    "df.to_csv('cleaned_and_clustered_wine_quality_dataset.csv', index=False)"
   ]
  },
  {
   "cell_type": "code",
   "execution_count": 16,
   "id": "dda9ffcd-e306-43ba-a138-6f8d2364be61",
   "metadata": {
    "tags": []
   },
   "outputs": [
    {
     "name": "stdout",
     "output_type": "stream",
     "text": [
      "KNN Метрики:\n",
      "Accuracy: 0.4785172704296546\n",
      "Precision: 0.46844033325139894\n",
      "Recall: 0.4785172704296546\n",
      "F1-мера: 0.4697342678960042\n",
      "\n",
      "Дерево решений Метрики:\n",
      "Accuracy: 0.5998315080033698\n",
      "Precision: 0.5989745312547512\n",
      "Recall: 0.5998315080033698\n",
      "F1-мера: 0.59921404951216\n"
     ]
    },
    {
     "name": "stderr",
     "output_type": "stream",
     "text": [
      "C:\\Users\\kordy\\anaconda3\\Lib\\site-packages\\sklearn\\metrics\\_classification.py:1469: UndefinedMetricWarning: Precision is ill-defined and being set to 0.0 in labels with no predicted samples. Use `zero_division` parameter to control this behavior.\n",
      "  _warn_prf(average, modifier, msg_start, len(result))\n",
      "C:\\Users\\kordy\\anaconda3\\Lib\\site-packages\\sklearn\\metrics\\_classification.py:1469: UndefinedMetricWarning: Recall is ill-defined and being set to 0.0 in labels with no true samples. Use `zero_division` parameter to control this behavior.\n",
      "  _warn_prf(average, modifier, msg_start, len(result))\n"
     ]
    }
   ],
   "source": [
    "import pandas as pd\n",
    "from sklearn.model_selection import train_test_split\n",
    "from sklearn.neighbors import KNeighborsClassifier\n",
    "from sklearn.tree import DecisionTreeClassifier\n",
    "from sklearn import metrics\n",
    "\n",
    "# Загрузка данных\n",
    "df = pd.read_csv('cleaned_and_clustered_wine_quality_dataset.csv')\n",
    "\n",
    "# Определение признаков и целевой переменной\n",
    "X = df.drop('quality', axis=1)\n",
    "y = df['quality']\n",
    "\n",
    "# Разделение данных на обучающий и тестовый наборы\n",
    "X_train, X_test, y_train, y_test = train_test_split(X, y, test_size=0.3, random_state=42)\n",
    "\n",
    "# Инициализация и обучение моделей\n",
    "knn_model = KNeighborsClassifier(n_neighbors=5)\n",
    "knn_model.fit(X_train, y_train)\n",
    "\n",
    "dt_model = DecisionTreeClassifier(random_state=42)\n",
    "dt_model.fit(X_train, y_train)\n",
    "\n",
    "# Предсказание на тестовом наборе\n",
    "knn_pred = knn_model.predict(X_test)\n",
    "dt_pred = dt_model.predict(X_test)\n",
    "\n",
    "# Оценка моделей\n",
    "knn_accuracy = metrics.accuracy_score(y_test, knn_pred)\n",
    "dt_accuracy = metrics.accuracy_score(y_test, dt_pred)\n",
    "\n",
    "knn_precision = metrics.precision_score(y_test, knn_pred, average='weighted')\n",
    "dt_precision = metrics.precision_score(y_test, dt_pred, average='weighted')\n",
    "\n",
    "knn_recall = metrics.recall_score(y_test, knn_pred, average='weighted')\n",
    "dt_recall = metrics.recall_score(y_test, dt_pred, average='weighted')\n",
    "\n",
    "knn_f1 = metrics.f1_score(y_test, knn_pred, average='weighted')\n",
    "dt_f1 = metrics.f1_score(y_test, dt_pred, average='weighted')\n",
    "\n",
    "# ROC AUC не применим к мультиклассовой классификации\n",
    "# roc_auc_knn = metrics.roc_auc_score(y_test, knn_pred)\n",
    "# roc_auc_dt = metrics.roc_auc_score(y_test, dt_pred)\n",
    "\n",
    "print('KNN Метрики:')\n",
    "print('Accuracy:', knn_accuracy)\n",
    "print('Precision:', knn_precision)\n",
    "print('Recall:', knn_recall)\n",
    "print('F1-мера:', knn_f1)\n",
    "\n",
    "print('\\nДерево решений Метрики:')\n",
    "print('Accuracy:', dt_accuracy)\n",
    "print('Precision:', dt_precision)\n",
    "print('Recall:', dt_recall)\n",
    "print('F1-мера:', dt_f1)"
   ]
  },
  {
   "cell_type": "code",
   "execution_count": 14,
   "id": "f7599988-4754-4b74-9a00-629a0e0c89d8",
   "metadata": {
    "tags": []
   },
   "outputs": [
    {
     "ename": "KeyError",
     "evalue": "'quality'",
     "output_type": "error",
     "traceback": [
      "\u001b[1;31m---------------------------------------------------------------------------\u001b[0m",
      "\u001b[1;31mKeyError\u001b[0m                                  Traceback (most recent call last)",
      "File \u001b[1;32m~\\anaconda3\\Lib\\site-packages\\pandas\\core\\indexes\\base.py:3802\u001b[0m, in \u001b[0;36mIndex.get_loc\u001b[1;34m(self, key, method, tolerance)\u001b[0m\n\u001b[0;32m   3801\u001b[0m \u001b[38;5;28;01mtry\u001b[39;00m:\n\u001b[1;32m-> 3802\u001b[0m     \u001b[38;5;28;01mreturn\u001b[39;00m \u001b[38;5;28mself\u001b[39m\u001b[38;5;241m.\u001b[39m_engine\u001b[38;5;241m.\u001b[39mget_loc(casted_key)\n\u001b[0;32m   3803\u001b[0m \u001b[38;5;28;01mexcept\u001b[39;00m \u001b[38;5;167;01mKeyError\u001b[39;00m \u001b[38;5;28;01mas\u001b[39;00m err:\n",
      "File \u001b[1;32m~\\anaconda3\\Lib\\site-packages\\pandas\\_libs\\index.pyx:138\u001b[0m, in \u001b[0;36mpandas._libs.index.IndexEngine.get_loc\u001b[1;34m()\u001b[0m\n",
      "File \u001b[1;32m~\\anaconda3\\Lib\\site-packages\\pandas\\_libs\\index.pyx:165\u001b[0m, in \u001b[0;36mpandas._libs.index.IndexEngine.get_loc\u001b[1;34m()\u001b[0m\n",
      "File \u001b[1;32mpandas\\_libs\\hashtable_class_helper.pxi:5745\u001b[0m, in \u001b[0;36mpandas._libs.hashtable.PyObjectHashTable.get_item\u001b[1;34m()\u001b[0m\n",
      "File \u001b[1;32mpandas\\_libs\\hashtable_class_helper.pxi:5753\u001b[0m, in \u001b[0;36mpandas._libs.hashtable.PyObjectHashTable.get_item\u001b[1;34m()\u001b[0m\n",
      "\u001b[1;31mKeyError\u001b[0m: 'quality'",
      "\nThe above exception was the direct cause of the following exception:\n",
      "\u001b[1;31mKeyError\u001b[0m                                  Traceback (most recent call last)",
      "Cell \u001b[1;32mIn[14], line 3\u001b[0m\n\u001b[0;32m      1\u001b[0m \u001b[38;5;66;03m# сбалансированность классов\u001b[39;00m\n\u001b[0;32m      2\u001b[0m \u001b[38;5;66;03m# да, ранее мы для этого строили графики, сейчас и так сойдет\u001b[39;00m\n\u001b[1;32m----> 3\u001b[0m class_distribution \u001b[38;5;241m=\u001b[39m df[\u001b[38;5;124m'\u001b[39m\u001b[38;5;124mquality\u001b[39m\u001b[38;5;124m'\u001b[39m]\u001b[38;5;241m.\u001b[39mvalue_counts()\u001b[38;5;241m.\u001b[39msort_index()\n\u001b[0;32m      4\u001b[0m \u001b[38;5;28mprint\u001b[39m(class_distribution)\n\u001b[0;32m      6\u001b[0m \u001b[38;5;66;03m# Преобразование результатов в проценты\u001b[39;00m\n",
      "File \u001b[1;32m~\\anaconda3\\Lib\\site-packages\\pandas\\core\\frame.py:3807\u001b[0m, in \u001b[0;36mDataFrame.__getitem__\u001b[1;34m(self, key)\u001b[0m\n\u001b[0;32m   3805\u001b[0m \u001b[38;5;28;01mif\u001b[39;00m \u001b[38;5;28mself\u001b[39m\u001b[38;5;241m.\u001b[39mcolumns\u001b[38;5;241m.\u001b[39mnlevels \u001b[38;5;241m>\u001b[39m \u001b[38;5;241m1\u001b[39m:\n\u001b[0;32m   3806\u001b[0m     \u001b[38;5;28;01mreturn\u001b[39;00m \u001b[38;5;28mself\u001b[39m\u001b[38;5;241m.\u001b[39m_getitem_multilevel(key)\n\u001b[1;32m-> 3807\u001b[0m indexer \u001b[38;5;241m=\u001b[39m \u001b[38;5;28mself\u001b[39m\u001b[38;5;241m.\u001b[39mcolumns\u001b[38;5;241m.\u001b[39mget_loc(key)\n\u001b[0;32m   3808\u001b[0m \u001b[38;5;28;01mif\u001b[39;00m is_integer(indexer):\n\u001b[0;32m   3809\u001b[0m     indexer \u001b[38;5;241m=\u001b[39m [indexer]\n",
      "File \u001b[1;32m~\\anaconda3\\Lib\\site-packages\\pandas\\core\\indexes\\base.py:3804\u001b[0m, in \u001b[0;36mIndex.get_loc\u001b[1;34m(self, key, method, tolerance)\u001b[0m\n\u001b[0;32m   3802\u001b[0m     \u001b[38;5;28;01mreturn\u001b[39;00m \u001b[38;5;28mself\u001b[39m\u001b[38;5;241m.\u001b[39m_engine\u001b[38;5;241m.\u001b[39mget_loc(casted_key)\n\u001b[0;32m   3803\u001b[0m \u001b[38;5;28;01mexcept\u001b[39;00m \u001b[38;5;167;01mKeyError\u001b[39;00m \u001b[38;5;28;01mas\u001b[39;00m err:\n\u001b[1;32m-> 3804\u001b[0m     \u001b[38;5;28;01mraise\u001b[39;00m \u001b[38;5;167;01mKeyError\u001b[39;00m(key) \u001b[38;5;28;01mfrom\u001b[39;00m \u001b[38;5;21;01merr\u001b[39;00m\n\u001b[0;32m   3805\u001b[0m \u001b[38;5;28;01mexcept\u001b[39;00m \u001b[38;5;167;01mTypeError\u001b[39;00m:\n\u001b[0;32m   3806\u001b[0m     \u001b[38;5;66;03m# If we have a listlike key, _check_indexing_error will raise\u001b[39;00m\n\u001b[0;32m   3807\u001b[0m     \u001b[38;5;66;03m#  InvalidIndexError. Otherwise we fall through and re-raise\u001b[39;00m\n\u001b[0;32m   3808\u001b[0m     \u001b[38;5;66;03m#  the TypeError.\u001b[39;00m\n\u001b[0;32m   3809\u001b[0m     \u001b[38;5;28mself\u001b[39m\u001b[38;5;241m.\u001b[39m_check_indexing_error(key)\n",
      "\u001b[1;31mKeyError\u001b[0m: 'quality'"
     ]
    }
   ],
   "source": [
    "# вывод: На этих данных алгоритм kNN показывает себя значительно хуже дерева решений."
   ]
  },
  {
   "cell_type": "code",
   "execution_count": null,
   "id": "c16e7c18-dbf1-4d46-8a3f-1b079c823d6d",
   "metadata": {},
   "outputs": [],
   "source": []
  }
 ],
 "metadata": {
  "kernelspec": {
   "display_name": "Python 3 (ipykernel)",
   "language": "python",
   "name": "python3"
  },
  "language_info": {
   "codemirror_mode": {
    "name": "ipython",
    "version": 3
   },
   "file_extension": ".py",
   "mimetype": "text/x-python",
   "name": "python",
   "nbconvert_exporter": "python",
   "pygments_lexer": "ipython3",
   "version": "3.11.4"
  }
 },
 "nbformat": 4,
 "nbformat_minor": 5
}
